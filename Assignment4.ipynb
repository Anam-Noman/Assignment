{
  "nbformat": 4,
  "nbformat_minor": 0,
  "metadata": {
    "colab": {
      "provenance": [],
      "authorship_tag": "ABX9TyMl2CFb6b7kEnIjS/aa8dgp",
      "include_colab_link": true
    },
    "kernelspec": {
      "name": "python3",
      "display_name": "Python 3"
    },
    "language_info": {
      "name": "python"
    }
  },
  "cells": [
    {
      "cell_type": "markdown",
      "metadata": {
        "id": "view-in-github",
        "colab_type": "text"
      },
      "source": [
        "<a href=\"https://colab.research.google.com/github/Anam-Noman/Assignment/blob/main/Assignment4.ipynb\" target=\"_parent\"><img src=\"https://colab.research.google.com/assets/colab-badge.svg\" alt=\"Open In Colab\"/></a>"
      ]
    },
    {
      "cell_type": "code",
      "execution_count": null,
      "metadata": {
        "id": "AI2-PjePYDi5"
      },
      "outputs": [],
      "source": []
    },
    {
      "cell_type": "markdown",
      "source": [
        "\"**Projects**\"\n",
        "***HomeWork***\n",
        "Q1:Write a Python program that takes two integer inputs from the user and calculates their sum. The program should perform the following tasks:\n",
        "\n",
        "Prompt the user to enter the first number.\n",
        "Read the input and convert it to an integer.\n",
        "Prompt the user to enter the second number.\n",
        "Read the input and convert it to an integer.\n",
        "Calculate the sum of the two numbers.\n",
        "Print the total sum with an appropriate message"
      ],
      "metadata": {
        "id": "lXvDN4z7YIMq"
      }
    },
    {
      "cell_type": "code",
      "source": [
        "def main():\n",
        "    # Prompt the user to enter two integers\n",
        "    num1 = int(input(\"Enter the first number: \"))\n",
        "    num2 = int(input(\"Enter the second number: \"))\n",
        "\n",
        "    # Calculate the sum\n",
        "    total = num1 + num2\n",
        "\n",
        "    # Print the result\n",
        "    print(f\"The sum of {num1} and {num2} is {total}.\")\n",
        "\n",
        "# Run the program\n",
        "if __name__ == \"__main__\":\n",
        "    main()\n",
        "\n"
      ],
      "metadata": {
        "colab": {
          "base_uri": "https://localhost:8080/"
        },
        "id": "_Qcbr_hGYX8s",
        "outputId": "96fd48ef-bd7c-4bc4-b143-8a39616f0f6c"
      },
      "execution_count": null,
      "outputs": [
        {
          "output_type": "stream",
          "name": "stdout",
          "text": [
            "Enter the first number: 22\n",
            "Enter the second number: 1\n",
            "The sum of 22 and 1 is 23.\n"
          ]
        }
      ]
    },
    {
      "cell_type": "markdown",
      "source": [
        "Q:2 Write a program which asks the user what their favorite animal is, and then always responds with \"My favorite animal is also ___!\" (the blank should be filled in with the user-inputted animal, of course).\n",
        "\n",
        "What's your favorite animal? cow\n",
        "\n",
        "My favorite animal is also cow!\n",
        "\n"
      ],
      "metadata": {
        "id": "q2a6JZfbaU0v"
      }
    },
    {
      "cell_type": "code",
      "source": [
        "def main():\n",
        "    # Ask the user for their favorite animal\n",
        "    favorite_animal = input(\"What's your favorite animal? \")\n",
        "\n",
        "    # Respond with a message including the user's input\n",
        "    print(f\"My favorite animal is also {favorite_animal}!\")\n",
        "\n",
        "# Run the program\n",
        "if __name__ == \"__main__\":\n",
        "    main()\n"
      ],
      "metadata": {
        "colab": {
          "base_uri": "https://localhost:8080/"
        },
        "id": "cMHD1x0qavyp",
        "outputId": "a2bddbfe-55ee-4b32-c208-f65dca310ec0"
      },
      "execution_count": null,
      "outputs": [
        {
          "output_type": "stream",
          "name": "stdout",
          "text": [
            "What's your favorite animal? Lion\n",
            "My favorite animal is also Lion!\n"
          ]
        }
      ]
    },
    {
      "cell_type": "markdown",
      "source": [
        "Q:3 Write a program which prompts the user for a temperature in Fahrenheit (this can be a number with decimal places!) and outputs the temperature converted to Celsius.\n",
        "\n",
        "The Celsius scale is widely used to measure temperature, but places still use Fahrenheit. Fahrenheit is another unit for temperature, but the scale is different from Celsius -- for example, 0 degrees Celsius is 32 degrees Fahrenheit!\n",
        "\n",
        "The equation you should use for converting from Fahrenheit to Celsius is the following:\n",
        "\n",
        "degrees_celsius = (degrees_fahrenheit - 32) * 5.0/9.0\n",
        "\n",
        "(Note. The .0 after the 5 and 9 matters in the line above!!!)\n",
        "\n"
      ],
      "metadata": {
        "id": "PQCFP_wqa9DJ"
      }
    },
    {
      "cell_type": "code",
      "source": [
        "def main():\n",
        "    # Prompt the user to enter temperature in Fahrenheit\n",
        "    fahrenheit = float(input(\"Enter temperature in Fahrenheit: \"))\n",
        "\n",
        "    # Convert Fahrenheit to Celsius\n",
        "    celsius = (fahrenheit - 32) * 5.0 / 9.0\n",
        "\n",
        "    # Display the result\n",
        "    print(f\"Temperature: {fahrenheit}F = {celsius}C\")\n",
        "\n",
        "# Run the program\n",
        "if __name__ == \"__main__\":\n",
        "    main()\n"
      ],
      "metadata": {
        "colab": {
          "base_uri": "https://localhost:8080/"
        },
        "id": "C8UknHuAbW_y",
        "outputId": "afe88eb6-952f-4269-d3cf-d31bce6d144a"
      },
      "execution_count": null,
      "outputs": [
        {
          "output_type": "stream",
          "name": "stdout",
          "text": [
            "Enter temperature in Fahrenheit: 45\n",
            "Temperature: 45.0F = 7.222222222222222C\n"
          ]
        }
      ]
    },
    {
      "cell_type": "markdown",
      "source": [
        "Q:4 Write a program to solve this age-related riddle!\n",
        "\n",
        "Anton, Beth, Chen, Drew, and Ethan are all friends. Their ages are as follows:\n",
        "\n",
        "Anton is 21 years old.\n",
        "Beth is 6 years older than Anton.\n",
        "Chen is 20 years older than Beth.\n",
        "Drew is as old as Chen's age plus Anton's age.\n",
        "Ethan is the same age as Chen.\n",
        "Your code should store each person's age to a variable and print their names and ages at the end. The autograder is sensitive to capitalization and punctuation, be careful! Your solution should look like this (the below numbers are made up -- your solution should have the correct values!):\n",
        "Anton is 3\n",
        "Beth is 4\n",
        "Chen is 5\n",
        "Drew is 6\n",
        "Ethan is 7\n"
      ],
      "metadata": {
        "id": "Q2WEZnSJcaKu"
      }
    },
    {
      "cell_type": "code",
      "source": [
        "def main():\n",
        "    # Storing each friend's age in variables based on the clues provided\n",
        "    anton_age = 21\n",
        "    beth_age = anton_age + 6  # Beth is 6 years older than Anton\n",
        "    chen_age = beth_age + 20  # Chen is 20 years older than Beth\n",
        "    drew_age = chen_age + anton_age  # Drew's age is Chen's age plus Anton's age\n",
        "    ethan_age = chen_age  # Ethan is the same age as Chen\n",
        "\n",
        "    # Printing the names and ages\n",
        "    print(f\"Anton is {anton_age}\")\n",
        "    print(f\"Beth is {beth_age}\")\n",
        "    print(f\"Chen is {chen_age}\")\n",
        "    print(f\"Drew is {drew_age}\")\n",
        "    print(f\"Ethan is {ethan_age}\")\n",
        "\n",
        "# Run the program\n",
        "if __name__ == \"__main__\":\n",
        "    main()"
      ],
      "metadata": {
        "colab": {
          "base_uri": "https://localhost:8080/"
        },
        "id": "O7uYdCaadA83",
        "outputId": "6a877231-7720-4a40-bb55-5501f38d02bd"
      },
      "execution_count": null,
      "outputs": [
        {
          "output_type": "stream",
          "name": "stdout",
          "text": [
            "Anton is 21\n",
            "Beth is 27\n",
            "Chen is 47\n",
            "Drew is 68\n",
            "Ethan is 47\n"
          ]
        }
      ]
    },
    {
      "cell_type": "markdown",
      "source": [
        "Q:5 Prompt the user to enter the lengths of each side of a triangle and then calculate and print the perimeter of the triangle (the sum of all of the side lengths).\n",
        "\n",
        "Here's a sample run of the program (user input is in bold italics):\n",
        "What is the length of side 1? 3\n",
        "What is the length of side 2? 4\n",
        "What is the length of side 3? 5.5\n",
        "The perimeter of the triangle is 12.5\n",
        "\n"
      ],
      "metadata": {
        "id": "9fZ-XAF3d_6A"
      }
    },
    {
      "cell_type": "code",
      "source": [
        "def main():\n",
        "    # Prompt the user to enter the lengths of the sides\n",
        "    side1 = int(input(\"What is the length of side 1? \"))\n",
        "    side2 = int(input(\"What is the length of side 2? \"))\n",
        "    side3 = int(input(\"What is the length of side 3? \"))\n",
        "\n",
        "    # Calculate the perimeter\n",
        "    perimeter = side1 + side2 + side3\n",
        "\n",
        "    # Print the perimeter\n",
        "    print(f\"The perimeter of the triangle is {perimeter}\")\n",
        "\n",
        "# Run the program\n",
        "if __name__ == \"__main__\":\n",
        "    main()\n"
      ],
      "metadata": {
        "colab": {
          "base_uri": "https://localhost:8080/"
        },
        "id": "6WZH0uc9eilL",
        "outputId": "8dcadf82-1b02-46d9-9026-5d35367269f9"
      },
      "execution_count": null,
      "outputs": [
        {
          "output_type": "stream",
          "name": "stdout",
          "text": [
            "What is the length of side 1? 3\n",
            "What is the length of side 2? 2\n",
            "What is the length of side 3? 4\n",
            "The perimeter of the triangle is 9\n"
          ]
        }
      ]
    },
    {
      "cell_type": "markdown",
      "source": [
        "Q:6Ask the user for a number and print its square (the product of the number times itself).\n",
        "Here's a sample run of the program (user input is in bold italics):\n",
        "Type a number to see its square: 4\n",
        "4.0 squared is 16.0\n",
        "\n"
      ],
      "metadata": {
        "id": "f8l_ZExwfkI1"
      }
    },
    {
      "cell_type": "code",
      "source": [
        "def main():\n",
        "    # Ask the user to input a number\n",
        "    number = float(input(\"Type a number to see its square: \"))\n",
        "\n",
        "    # Calculate the square of the number\n",
        "    square = number ** 2\n",
        "\n",
        "\n",
        "    # Print the result\n",
        "    print(f\"{number} squared is {square}\")\n",
        "\n",
        "# Run the program\n",
        "if __name__ == \"__main__\":\n",
        "    main()\n"
      ],
      "metadata": {
        "colab": {
          "base_uri": "https://localhost:8080/"
        },
        "id": "GxTOnflZf1AW",
        "outputId": "c1d3cfd5-b34c-43d6-9c08-09fa15b0ac51"
      },
      "execution_count": null,
      "outputs": [
        {
          "output_type": "stream",
          "name": "stdout",
          "text": [
            "Type a number to see its square: 7\n",
            "7.0 squared is 49.0\n"
          ]
        }
      ]
    },
    {
      "cell_type": "markdown",
      "source": [
        "# **Expressions**\n",
        "Q:1\n",
        "Simulate rolling two dice, three times. Prints the results of each die roll. This program is used to show how variable scope works."
      ],
      "metadata": {
        "id": "isZeUBON5eIT"
      }
    },
    {
      "cell_type": "code",
      "source": [
        "import random\n",
        "\n",
        "def roll_dice():\n",
        "    die1 = random.randint(1, 6)  # Local variable\n",
        "    die2 = random.randint(1, 6)  # Local variable\n",
        "    print(f\"Dice Roll: {die1}, {die2}\")\n",
        "\n",
        "def main():\n",
        "    for _ in range(3):  # Looping three times\n",
        "        roll_dice()\n",
        "\n",
        "main()\n",
        "\n"
      ],
      "metadata": {
        "colab": {
          "base_uri": "https://localhost:8080/"
        },
        "id": "ET18xeVh6EUN",
        "outputId": "a6821b24-4a80-46a5-fbcf-52b081a770d9"
      },
      "execution_count": 5,
      "outputs": [
        {
          "output_type": "stream",
          "name": "stdout",
          "text": [
            "Dice Roll: 4, 3\n",
            "Dice Roll: 1, 5\n",
            "Dice Roll: 4, 3\n"
          ]
        }
      ]
    },
    {
      "cell_type": "markdown",
      "source": [
        "Q:2Write a program that continually reads in mass from the user and then outputs the equivalent energy using Einstein's mass-energy equivalence formula (E stands for energy, m stands for mass, and C is the speed of light:\n",
        "\n",
        "E = m * c**2\n",
        "\n",
        "Almost 100 years ago, Albert Einstein famously discovered that mass and energy are interchangeable and are related by the above equation. You should ask the user for mass (m) in kilograms and use a constant value for the speed of light -- C = 299792458 m/s."
      ],
      "metadata": {
        "id": "J1ENoJco6Yi_"
      }
    },
    {
      "cell_type": "code",
      "source": [
        "# Einstein's Mass-Energy Equivalence Program\n",
        "def mass_to_energy():\n",
        "    C = 299792458  # Speed of light in m/s\n",
        "    while True:\n",
        "        try:\n",
        "            mass = float(input(\"Enter kilos of mass: \"))\n",
        "            energy = mass * C**2\n",
        "            print(\"\\ne = m * C^2...\")\n",
        "            print(f\"m = {mass} kg\")\n",
        "            print(f\"C = {C} m/s\")\n",
        "            print(f\"{energy} joules of energy!\\n\")\n",
        "        except ValueError:\n",
        "            print(\"Please enter a valid number for mass.\")\n",
        "\n",
        "if __name__ == \"__main__\":\n",
        "    mass_to_energy()\n"
      ],
      "metadata": {
        "colab": {
          "base_uri": "https://localhost:8080/"
        },
        "id": "SNYnsgy37kAs",
        "outputId": "45c9ceaa-0a95-4d94-992e-577a6919142d"
      },
      "execution_count": null,
      "outputs": [
        {
          "output_type": "stream",
          "name": "stdout",
          "text": [
            "Enter kilos of mass: 12\n",
            "\n",
            "e = m * C^2...\n",
            "m = 12.0 kg\n",
            "C = 299792458 m/s\n",
            "1.0785062144841811e+18 joules of energy!\n",
            "\n"
          ]
        }
      ]
    }
  ]
}